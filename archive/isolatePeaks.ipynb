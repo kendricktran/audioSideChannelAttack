{
 "cells": [
  {
   "cell_type": "code",
   "execution_count": 1,
   "metadata": {},
   "outputs": [],
   "source": [
    "import librosa\n",
    "import librosa.display\n",
    "import numpy as np\n",
    "import matplotlib.pyplot as plt"
   ]
  },
  {
   "cell_type": "code",
   "execution_count": 2,
   "metadata": {},
   "outputs": [],
   "source": [
    "def detect_peaks(audio_signal, threshold=0.5):\n",
    "    peaks = []\n",
    "    for i in range(1, len(audio_signal) - 1):\n",
    "        if audio_signal[i] > threshold and audio_signal[i] > audio_signal[i - 1] and audio_signal[i] > audio_signal[i + 1]:\n",
    "            peaks.append(i)\n",
    "    return peaks"
   ]
  },
  {
   "cell_type": "code",
   "execution_count": 3,
   "metadata": {},
   "outputs": [],
   "source": [
    "def isolate_sounds(wav_file):\n",
    "    # Load the audio file\n",
    "    y, sr = librosa.load(wav_file)\n",
    "\n",
    "    # Detect peaks in the audio signal\n",
    "    peaks = detect_peaks(y)\n",
    "\n",
    "    # Segment the audio around each peak\n",
    "    sound_segments = []\n",
    "    for peak_index in peaks:\n",
    "        # Define segment boundaries around the peak\n",
    "        segment_start = max(0, peak_index - 22050)  # 1 second before the peak (assuming 22050 samples/second)\n",
    "        segment_end = min(len(y), peak_index + 22050)  # 1 second after the peak\n",
    "\n",
    "        # Extract the segment\n",
    "        segment = y[segment_start:segment_end]\n",
    "\n",
    "        # Store the segment\n",
    "        sound_segments.append(segment)\n",
    "\n",
    "    return sound_segments"
   ]
  },
  {
   "cell_type": "code",
   "execution_count": 7,
   "metadata": {},
   "outputs": [],
   "source": [
    "def create_mel_spectrogram(sound_segments, output_image):\n",
    "    # Generate mel spectrogram for each sound segment\n",
    "    for i, segment in enumerate(sound_segments):\n",
    "        # Compute the mel spectrogram\n",
    "        mel_spectrogram = librosa.feature.melspectrogram(y=segment, sr=sr)\n",
    "\n",
    "        # Convert to log scale (dB)\n",
    "        log_mel_spectrogram = librosa.power_to_db(mel_spectrogram, ref=np.max)\n",
    "\n",
    "        # Plot the mel spectrogram\n",
    "        plt.figure(figsize=(10, 5))\n",
    "        librosa.display.specshow(log_mel_spectrogram, sr=sr, x_axis='time', y_axis='mel')\n",
    "        plt.title('Mel Spectrogram')\n",
    "        plt.colorbar(format='%+2.0f dB')\n",
    "        plt.savefig(output_image, bbox_inches='tight', pad_inches=0.0)\n",
    "        plt.show()\n",
    "        # # Plot the mel spectrogram\n",
    "        # plt.figure(figsize=(10, 5))\n",
    "        # librosa.display.specshow(log_mel_spectrogram, sr=sr, x_axis='time', y_axis='mel')\n",
    "        # plt.title(f'Mel Spectrogram - Sound Segment {i+1}')\n",
    "        # plt.colorbar(format='%+2.0f dB')\n",
    "        # plt.show()"
   ]
  },
  {
   "cell_type": "code",
   "execution_count": 9,
   "metadata": {},
   "outputs": [],
   "source": [
    "# # Example usage:\n",
    "# input_wav_file = 'file_example_WAV_2MG.wav'\n",
    "# sound_segments = isolate_sounds(input_wav_file)\n",
    "# create_mel_spectrogram(sound_segments)\n",
    "\n",
    "# Example usage:\n",
    "input_wav_file = 'file_example_WAV_2MG.wav'\n",
    "output_image_file = 'mel_spec_out1.png'\n",
    "sound_segments = isolate_sounds(input_wav_file)\n",
    "create_mel_spectrogram(sound_segments, output_image_file)"
   ]
  }
 ],
 "metadata": {
  "kernelspec": {
   "display_name": "Python 3",
   "language": "python",
   "name": "python3"
  },
  "language_info": {
   "codemirror_mode": {
    "name": "ipython",
    "version": 3
   },
   "file_extension": ".py",
   "mimetype": "text/x-python",
   "name": "python",
   "nbconvert_exporter": "python",
   "pygments_lexer": "ipython3",
   "version": "3.8.5"
  }
 },
 "nbformat": 4,
 "nbformat_minor": 2
}
